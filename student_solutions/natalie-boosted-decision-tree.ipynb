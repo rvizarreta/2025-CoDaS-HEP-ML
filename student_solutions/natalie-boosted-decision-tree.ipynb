{
 "cells": [
  {
   "cell_type": "raw",
   "id": "3de66f8d",
   "metadata": {
    "_cell_guid": "b1076dfc-b9ad-4769-8c92-a6c4dae69d19",
    "_uuid": "8f2839f25d086af736a60e9eeb907d3b93b6e0e5",
    "papermill": {
     "duration": 0.003662,
     "end_time": "2025-07-24T15:45:27.927741",
     "exception": false,
     "start_time": "2025-07-24T15:45:27.924079",
     "status": "completed"
    },
    "tags": []
   },
   "source": [
    "# Jet Tagging with Boosting Decision Trees (BDT)\n",
    "\n",
    "This notebook shows how to use XGBoost for jet classification between QCD and TT jets using particle-level features.\n",
    "\n",
    "## What is XGBoost?\n",
    "XGBoost (eXtreme Gradient Boosting) is a package for gradient boosted decision trees designed for speed and performance. It can handle large datasets and is perhaps the most used Python BDT implementation. \n",
    "\n",
    "## Why use BDTs for Jet Tagging?\n",
    "- Quick to train\n",
    "- More explainable than most other ML alternatives \n",
    "- Less prone to overfitting compared to deep learning methods\n",
    "- Despite being simple, BDTs often achieve good performance on complex tasks\n",
    "\n",
    "\n",
    "\n"
   ]
  },
  {
   "cell_type": "code",
   "execution_count": 1,
   "id": "2bbda72b",
   "metadata": {
    "execution": {
     "iopub.execute_input": "2025-07-24T15:45:27.935681Z",
     "iopub.status.busy": "2025-07-24T15:45:27.935341Z",
     "iopub.status.idle": "2025-07-24T15:45:38.650894Z",
     "shell.execute_reply": "2025-07-24T15:45:38.649821Z"
    },
    "papermill": {
     "duration": 10.72151,
     "end_time": "2025-07-24T15:45:38.652750",
     "exception": false,
     "start_time": "2025-07-24T15:45:27.931240",
     "status": "completed"
    },
    "tags": []
   },
   "outputs": [],
   "source": [
    "import numpy as np\n",
    "import pandas as pd\n",
    "import xgboost as xgb\n",
    "from sklearn.metrics import accuracy_score\n",
    "import matplotlib.pyplot as plt\n",
    "import seaborn as sns\n",
    "from jet_utils import load_processed_data \n",
    "from jet_plotting_utils import plot_confusion_matrix, plot_roc_curve"
   ]
  },
  {
   "cell_type": "markdown",
   "id": "66a31df8",
   "metadata": {
    "papermill": {
     "duration": 0.002752,
     "end_time": "2025-07-24T15:45:38.658775",
     "exception": false,
     "start_time": "2025-07-24T15:45:38.656023",
     "status": "completed"
    },
    "tags": []
   },
   "source": [
    "## 1. Load and Prepare Data\n",
    "\n",
    "We'll use particle-level features from the jet data. See kaggle for a detailed description of the data. "
   ]
  },
  {
   "cell_type": "code",
   "execution_count": 2,
   "id": "1cf8d805",
   "metadata": {
    "execution": {
     "iopub.execute_input": "2025-07-24T15:45:38.667144Z",
     "iopub.status.busy": "2025-07-24T15:45:38.666641Z",
     "iopub.status.idle": "2025-07-24T15:45:38.778754Z",
     "shell.execute_reply": "2025-07-24T15:45:38.777602Z"
    },
    "papermill": {
     "duration": 0.118507,
     "end_time": "2025-07-24T15:45:38.780472",
     "exception": false,
     "start_time": "2025-07-24T15:45:38.661965",
     "status": "completed"
    },
    "tags": []
   },
   "outputs": [
    {
     "data": {
      "text/plain": [
       "(3520, 14)"
      ]
     },
     "execution_count": 2,
     "metadata": {},
     "output_type": "execute_result"
    }
   ],
   "source": [
    "# Load data\n",
    "# Create feature matrix and labels\n",
    "\n",
    "X_train, y_train, train_ids, X_val, y_val, val_ids, X_test, test_ids= load_processed_data()\n",
    "\n",
    "X_train.shape "
   ]
  },
  {
   "cell_type": "code",
   "execution_count": 3,
   "id": "3746bb7c",
   "metadata": {
    "execution": {
     "iopub.execute_input": "2025-07-24T15:45:38.788376Z",
     "iopub.status.busy": "2025-07-24T15:45:38.788008Z",
     "iopub.status.idle": "2025-07-24T15:45:38.819999Z",
     "shell.execute_reply": "2025-07-24T15:45:38.818988Z"
    },
    "papermill": {
     "duration": 0.037881,
     "end_time": "2025-07-24T15:45:38.821642",
     "exception": false,
     "start_time": "2025-07-24T15:45:38.783761",
     "status": "completed"
    },
    "tags": []
   },
   "outputs": [
    {
     "data": {
      "text/html": [
       "<div>\n",
       "<style scoped>\n",
       "    .dataframe tbody tr th:only-of-type {\n",
       "        vertical-align: middle;\n",
       "    }\n",
       "\n",
       "    .dataframe tbody tr th {\n",
       "        vertical-align: top;\n",
       "    }\n",
       "\n",
       "    .dataframe thead th {\n",
       "        text-align: right;\n",
       "    }\n",
       "</style>\n",
       "<table border=\"1\" class=\"dataframe\">\n",
       "  <thead>\n",
       "    <tr style=\"text-align: right;\">\n",
       "      <th></th>\n",
       "      <th>n_clusters</th>\n",
       "      <th>max_cluster_pt</th>\n",
       "      <th>mean_cluster_pt</th>\n",
       "      <th>std_cluster_pt</th>\n",
       "      <th>max_cluster_size</th>\n",
       "      <th>mean_cluster_size</th>\n",
       "      <th>std_cluster_size</th>\n",
       "      <th>total_pt</th>\n",
       "      <th>max_cluster_eta</th>\n",
       "      <th>max_cluster_phi</th>\n",
       "      <th>mean_cluster_eta</th>\n",
       "      <th>mean_cluster_phi</th>\n",
       "      <th>cluster_pt_ratio</th>\n",
       "      <th>cluster_size_ratio</th>\n",
       "    </tr>\n",
       "  </thead>\n",
       "  <tbody>\n",
       "    <tr>\n",
       "      <th>0</th>\n",
       "      <td>13</td>\n",
       "      <td>2.0</td>\n",
       "      <td>0.615318</td>\n",
       "      <td>0.539951</td>\n",
       "      <td>2</td>\n",
       "      <td>2.0</td>\n",
       "      <td>0.0</td>\n",
       "      <td>7.999129</td>\n",
       "      <td>0.5</td>\n",
       "      <td>0.7</td>\n",
       "      <td>0.076923</td>\n",
       "      <td>0.346154</td>\n",
       "      <td>1.470200</td>\n",
       "      <td>1.0</td>\n",
       "    </tr>\n",
       "    <tr>\n",
       "      <th>1</th>\n",
       "      <td>10</td>\n",
       "      <td>2.0</td>\n",
       "      <td>0.777020</td>\n",
       "      <td>0.601157</td>\n",
       "      <td>2</td>\n",
       "      <td>2.0</td>\n",
       "      <td>0.0</td>\n",
       "      <td>7.770204</td>\n",
       "      <td>0.2</td>\n",
       "      <td>0.5</td>\n",
       "      <td>0.100000</td>\n",
       "      <td>0.230000</td>\n",
       "      <td>1.430785</td>\n",
       "      <td>1.0</td>\n",
       "    </tr>\n",
       "    <tr>\n",
       "      <th>2</th>\n",
       "      <td>4</td>\n",
       "      <td>2.0</td>\n",
       "      <td>0.972718</td>\n",
       "      <td>0.606990</td>\n",
       "      <td>2</td>\n",
       "      <td>2.0</td>\n",
       "      <td>0.0</td>\n",
       "      <td>3.890871</td>\n",
       "      <td>0.1</td>\n",
       "      <td>0.1</td>\n",
       "      <td>0.050000</td>\n",
       "      <td>0.050000</td>\n",
       "      <td>2.557882</td>\n",
       "      <td>1.0</td>\n",
       "    </tr>\n",
       "    <tr>\n",
       "      <th>3</th>\n",
       "      <td>14</td>\n",
       "      <td>2.0</td>\n",
       "      <td>0.746367</td>\n",
       "      <td>0.485636</td>\n",
       "      <td>2</td>\n",
       "      <td>2.0</td>\n",
       "      <td>0.0</td>\n",
       "      <td>10.449135</td>\n",
       "      <td>0.5</td>\n",
       "      <td>0.5</td>\n",
       "      <td>0.185714</td>\n",
       "      <td>0.285714</td>\n",
       "      <td>1.624096</td>\n",
       "      <td>1.0</td>\n",
       "    </tr>\n",
       "    <tr>\n",
       "      <th>4</th>\n",
       "      <td>6</td>\n",
       "      <td>2.0</td>\n",
       "      <td>0.575760</td>\n",
       "      <td>0.639069</td>\n",
       "      <td>2</td>\n",
       "      <td>2.0</td>\n",
       "      <td>0.0</td>\n",
       "      <td>3.454561</td>\n",
       "      <td>0.1</td>\n",
       "      <td>0.1</td>\n",
       "      <td>0.050000</td>\n",
       "      <td>0.066667</td>\n",
       "      <td>4.988196</td>\n",
       "      <td>1.0</td>\n",
       "    </tr>\n",
       "  </tbody>\n",
       "</table>\n",
       "</div>"
      ],
      "text/plain": [
       "   n_clusters  max_cluster_pt  mean_cluster_pt  std_cluster_pt  \\\n",
       "0          13             2.0         0.615318        0.539951   \n",
       "1          10             2.0         0.777020        0.601157   \n",
       "2           4             2.0         0.972718        0.606990   \n",
       "3          14             2.0         0.746367        0.485636   \n",
       "4           6             2.0         0.575760        0.639069   \n",
       "\n",
       "   max_cluster_size  mean_cluster_size  std_cluster_size   total_pt  \\\n",
       "0                 2                2.0               0.0   7.999129   \n",
       "1                 2                2.0               0.0   7.770204   \n",
       "2                 2                2.0               0.0   3.890871   \n",
       "3                 2                2.0               0.0  10.449135   \n",
       "4                 2                2.0               0.0   3.454561   \n",
       "\n",
       "   max_cluster_eta  max_cluster_phi  mean_cluster_eta  mean_cluster_phi  \\\n",
       "0              0.5              0.7          0.076923          0.346154   \n",
       "1              0.2              0.5          0.100000          0.230000   \n",
       "2              0.1              0.1          0.050000          0.050000   \n",
       "3              0.5              0.5          0.185714          0.285714   \n",
       "4              0.1              0.1          0.050000          0.066667   \n",
       "\n",
       "   cluster_pt_ratio  cluster_size_ratio  \n",
       "0          1.470200                 1.0  \n",
       "1          1.430785                 1.0  \n",
       "2          2.557882                 1.0  \n",
       "3          1.624096                 1.0  \n",
       "4          4.988196                 1.0  "
      ]
     },
     "execution_count": 3,
     "metadata": {},
     "output_type": "execute_result"
    }
   ],
   "source": [
    "X_train.head()"
   ]
  },
  {
   "cell_type": "markdown",
   "id": "7acc4175",
   "metadata": {
    "papermill": {
     "duration": 0.003051,
     "end_time": "2025-07-24T15:45:38.828378",
     "exception": false,
     "start_time": "2025-07-24T15:45:38.825327",
     "status": "completed"
    },
    "tags": []
   },
   "source": [
    "## 2. Train XGBoost Model\n",
    "\n",
    "XGBoost has several important hyperparameters:\n",
    "- `n_estimators`: How many trees to we use \n",
    "- `max_depth`: How deep is each tree - i.e. how many decisions does it make. Can you see a reason why we might want to set a max here? \n",
    "- `learning_rate`: How big is our gradient step \n",
    "- `objective`: Learning task and objective function - since we can do classification or regression it's important to select the right one here. "
   ]
  },
  {
   "cell_type": "code",
   "execution_count": 4,
   "id": "6892b3d3",
   "metadata": {
    "execution": {
     "iopub.execute_input": "2025-07-24T15:45:38.836830Z",
     "iopub.status.busy": "2025-07-24T15:45:38.836149Z",
     "iopub.status.idle": "2025-07-24T15:45:39.140080Z",
     "shell.execute_reply": "2025-07-24T15:45:39.138959Z"
    },
    "papermill": {
     "duration": 0.310153,
     "end_time": "2025-07-24T15:45:39.142076",
     "exception": false,
     "start_time": "2025-07-24T15:45:38.831923",
     "status": "completed"
    },
    "tags": []
   },
   "outputs": [
    {
     "name": "stdout",
     "output_type": "stream",
     "text": [
      "[0]\tvalidation_0-logloss:0.58016\n",
      "[1]\tvalidation_0-logloss:0.53280\n",
      "[2]\tvalidation_0-logloss:0.49335\n",
      "[3]\tvalidation_0-logloss:0.46108\n",
      "[4]\tvalidation_0-logloss:0.43455\n",
      "[5]\tvalidation_0-logloss:0.41170\n",
      "[6]\tvalidation_0-logloss:0.39189\n",
      "[7]\tvalidation_0-logloss:0.37505\n",
      "[8]\tvalidation_0-logloss:0.36133\n",
      "[9]\tvalidation_0-logloss:0.34846\n",
      "[10]\tvalidation_0-logloss:0.33670\n",
      "[11]\tvalidation_0-logloss:0.32772\n",
      "[12]\tvalidation_0-logloss:0.31926\n",
      "[13]\tvalidation_0-logloss:0.31251\n",
      "[14]\tvalidation_0-logloss:0.30646\n",
      "[15]\tvalidation_0-logloss:0.30040\n",
      "[16]\tvalidation_0-logloss:0.29565\n",
      "[17]\tvalidation_0-logloss:0.29134\n",
      "[18]\tvalidation_0-logloss:0.28645\n",
      "[19]\tvalidation_0-logloss:0.28370\n",
      "[20]\tvalidation_0-logloss:0.28039\n",
      "[21]\tvalidation_0-logloss:0.27871\n",
      "[22]\tvalidation_0-logloss:0.27660\n",
      "[23]\tvalidation_0-logloss:0.27529\n",
      "[24]\tvalidation_0-logloss:0.27355\n",
      "[25]\tvalidation_0-logloss:0.27192\n",
      "[26]\tvalidation_0-logloss:0.27069\n",
      "[27]\tvalidation_0-logloss:0.26951\n",
      "[28]\tvalidation_0-logloss:0.26870\n",
      "[29]\tvalidation_0-logloss:0.26763\n",
      "[30]\tvalidation_0-logloss:0.26725\n",
      "[31]\tvalidation_0-logloss:0.26671\n",
      "[32]\tvalidation_0-logloss:0.26587\n",
      "[33]\tvalidation_0-logloss:0.26548\n",
      "[34]\tvalidation_0-logloss:0.26493\n",
      "[35]\tvalidation_0-logloss:0.26438\n",
      "[36]\tvalidation_0-logloss:0.26458\n",
      "[37]\tvalidation_0-logloss:0.26424\n",
      "[38]\tvalidation_0-logloss:0.26411\n",
      "[39]\tvalidation_0-logloss:0.26368\n",
      "[40]\tvalidation_0-logloss:0.26408\n",
      "[41]\tvalidation_0-logloss:0.26405\n",
      "[42]\tvalidation_0-logloss:0.26431\n",
      "[43]\tvalidation_0-logloss:0.26430\n",
      "[44]\tvalidation_0-logloss:0.26422\n",
      "[45]\tvalidation_0-logloss:0.26458\n",
      "[46]\tvalidation_0-logloss:0.26514\n",
      "[47]\tvalidation_0-logloss:0.26512\n",
      "[48]\tvalidation_0-logloss:0.26493\n",
      "[49]\tvalidation_0-logloss:0.26513\n",
      "[50]\tvalidation_0-logloss:0.26515\n",
      "[51]\tvalidation_0-logloss:0.26543\n",
      "[52]\tvalidation_0-logloss:0.26604\n",
      "[53]\tvalidation_0-logloss:0.26611\n",
      "[54]\tvalidation_0-logloss:0.26601\n",
      "[55]\tvalidation_0-logloss:0.26671\n",
      "[56]\tvalidation_0-logloss:0.26630\n",
      "[57]\tvalidation_0-logloss:0.26632\n",
      "[58]\tvalidation_0-logloss:0.26680\n",
      "[59]\tvalidation_0-logloss:0.26713\n",
      "[60]\tvalidation_0-logloss:0.26617\n",
      "[61]\tvalidation_0-logloss:0.26616\n",
      "[62]\tvalidation_0-logloss:0.26576\n",
      "[63]\tvalidation_0-logloss:0.26642\n",
      "[64]\tvalidation_0-logloss:0.26651\n",
      "[65]\tvalidation_0-logloss:0.26727\n",
      "[66]\tvalidation_0-logloss:0.26628\n",
      "[67]\tvalidation_0-logloss:0.26703\n",
      "[68]\tvalidation_0-logloss:0.26779\n",
      "[69]\tvalidation_0-logloss:0.26766\n",
      "[70]\tvalidation_0-logloss:0.26779\n",
      "[71]\tvalidation_0-logloss:0.26861\n",
      "[72]\tvalidation_0-logloss:0.26880\n",
      "[73]\tvalidation_0-logloss:0.26854\n",
      "[74]\tvalidation_0-logloss:0.26872\n",
      "[75]\tvalidation_0-logloss:0.26875\n",
      "[76]\tvalidation_0-logloss:0.26876\n",
      "[77]\tvalidation_0-logloss:0.26887\n",
      "[78]\tvalidation_0-logloss:0.26893\n",
      "[79]\tvalidation_0-logloss:0.26918\n",
      "[80]\tvalidation_0-logloss:0.26917\n",
      "[81]\tvalidation_0-logloss:0.26880\n",
      "[82]\tvalidation_0-logloss:0.26841\n",
      "[83]\tvalidation_0-logloss:0.26869\n",
      "[84]\tvalidation_0-logloss:0.26889\n",
      "[85]\tvalidation_0-logloss:0.26959\n",
      "[86]\tvalidation_0-logloss:0.26977\n",
      "[87]\tvalidation_0-logloss:0.26978\n",
      "[88]\tvalidation_0-logloss:0.26954\n",
      "[89]\tvalidation_0-logloss:0.26976\n",
      "[90]\tvalidation_0-logloss:0.26949\n",
      "[91]\tvalidation_0-logloss:0.26965\n",
      "[92]\tvalidation_0-logloss:0.26990\n",
      "[93]\tvalidation_0-logloss:0.27018\n",
      "[94]\tvalidation_0-logloss:0.27050\n",
      "[95]\tvalidation_0-logloss:0.27051\n",
      "[96]\tvalidation_0-logloss:0.27047\n",
      "[97]\tvalidation_0-logloss:0.27078\n",
      "[98]\tvalidation_0-logloss:0.27109\n",
      "[99]\tvalidation_0-logloss:0.27142\n"
     ]
    },
    {
     "data": {
      "text/html": [
       "<style>#sk-container-id-1 {color: black;background-color: white;}#sk-container-id-1 pre{padding: 0;}#sk-container-id-1 div.sk-toggleable {background-color: white;}#sk-container-id-1 label.sk-toggleable__label {cursor: pointer;display: block;width: 100%;margin-bottom: 0;padding: 0.3em;box-sizing: border-box;text-align: center;}#sk-container-id-1 label.sk-toggleable__label-arrow:before {content: \"▸\";float: left;margin-right: 0.25em;color: #696969;}#sk-container-id-1 label.sk-toggleable__label-arrow:hover:before {color: black;}#sk-container-id-1 div.sk-estimator:hover label.sk-toggleable__label-arrow:before {color: black;}#sk-container-id-1 div.sk-toggleable__content {max-height: 0;max-width: 0;overflow: hidden;text-align: left;background-color: #f0f8ff;}#sk-container-id-1 div.sk-toggleable__content pre {margin: 0.2em;color: black;border-radius: 0.25em;background-color: #f0f8ff;}#sk-container-id-1 input.sk-toggleable__control:checked~div.sk-toggleable__content {max-height: 200px;max-width: 100%;overflow: auto;}#sk-container-id-1 input.sk-toggleable__control:checked~label.sk-toggleable__label-arrow:before {content: \"▾\";}#sk-container-id-1 div.sk-estimator input.sk-toggleable__control:checked~label.sk-toggleable__label {background-color: #d4ebff;}#sk-container-id-1 div.sk-label input.sk-toggleable__control:checked~label.sk-toggleable__label {background-color: #d4ebff;}#sk-container-id-1 input.sk-hidden--visually {border: 0;clip: rect(1px 1px 1px 1px);clip: rect(1px, 1px, 1px, 1px);height: 1px;margin: -1px;overflow: hidden;padding: 0;position: absolute;width: 1px;}#sk-container-id-1 div.sk-estimator {font-family: monospace;background-color: #f0f8ff;border: 1px dotted black;border-radius: 0.25em;box-sizing: border-box;margin-bottom: 0.5em;}#sk-container-id-1 div.sk-estimator:hover {background-color: #d4ebff;}#sk-container-id-1 div.sk-parallel-item::after {content: \"\";width: 100%;border-bottom: 1px solid gray;flex-grow: 1;}#sk-container-id-1 div.sk-label:hover label.sk-toggleable__label {background-color: #d4ebff;}#sk-container-id-1 div.sk-serial::before {content: \"\";position: absolute;border-left: 1px solid gray;box-sizing: border-box;top: 0;bottom: 0;left: 50%;z-index: 0;}#sk-container-id-1 div.sk-serial {display: flex;flex-direction: column;align-items: center;background-color: white;padding-right: 0.2em;padding-left: 0.2em;position: relative;}#sk-container-id-1 div.sk-item {position: relative;z-index: 1;}#sk-container-id-1 div.sk-parallel {display: flex;align-items: stretch;justify-content: center;background-color: white;position: relative;}#sk-container-id-1 div.sk-item::before, #sk-container-id-1 div.sk-parallel-item::before {content: \"\";position: absolute;border-left: 1px solid gray;box-sizing: border-box;top: 0;bottom: 0;left: 50%;z-index: -1;}#sk-container-id-1 div.sk-parallel-item {display: flex;flex-direction: column;z-index: 1;position: relative;background-color: white;}#sk-container-id-1 div.sk-parallel-item:first-child::after {align-self: flex-end;width: 50%;}#sk-container-id-1 div.sk-parallel-item:last-child::after {align-self: flex-start;width: 50%;}#sk-container-id-1 div.sk-parallel-item:only-child::after {width: 0;}#sk-container-id-1 div.sk-dashed-wrapped {border: 1px dashed gray;margin: 0 0.4em 0.5em 0.4em;box-sizing: border-box;padding-bottom: 0.4em;background-color: white;}#sk-container-id-1 div.sk-label label {font-family: monospace;font-weight: bold;display: inline-block;line-height: 1.2em;}#sk-container-id-1 div.sk-label-container {text-align: center;}#sk-container-id-1 div.sk-container {/* jupyter's `normalize.less` sets `[hidden] { display: none; }` but bootstrap.min.css set `[hidden] { display: none !important; }` so we also need the `!important` here to be able to override the default hidden behavior on the sphinx rendered scikit-learn.org. See: https://github.com/scikit-learn/scikit-learn/issues/21755 */display: inline-block !important;position: relative;}#sk-container-id-1 div.sk-text-repr-fallback {display: none;}</style><div id=\"sk-container-id-1\" class=\"sk-top-container\"><div class=\"sk-text-repr-fallback\"><pre>XGBClassifier(base_score=None, booster=None, callbacks=None,\n",
       "              colsample_bylevel=None, colsample_bynode=None,\n",
       "              colsample_bytree=None, device=None, early_stopping_rounds=None,\n",
       "              enable_categorical=False, eval_metric=None, feature_types=None,\n",
       "              gamma=None, grow_policy=None, importance_type=None,\n",
       "              interaction_constraints=None, learning_rate=0.1, max_bin=None,\n",
       "              max_cat_threshold=None, max_cat_to_onehot=None,\n",
       "              max_delta_step=None, max_depth=5, max_leaves=None,\n",
       "              min_child_weight=None, missing=nan, monotone_constraints=None,\n",
       "              multi_strategy=None, n_estimators=100, n_jobs=None,\n",
       "              num_parallel_tree=None, random_state=42, ...)</pre><b>In a Jupyter environment, please rerun this cell to show the HTML representation or trust the notebook. <br />On GitHub, the HTML representation is unable to render, please try loading this page with nbviewer.org.</b></div><div class=\"sk-container\" hidden><div class=\"sk-item\"><div class=\"sk-estimator sk-toggleable\"><input class=\"sk-toggleable__control sk-hidden--visually\" id=\"sk-estimator-id-1\" type=\"checkbox\" checked><label for=\"sk-estimator-id-1\" class=\"sk-toggleable__label sk-toggleable__label-arrow\">XGBClassifier</label><div class=\"sk-toggleable__content\"><pre>XGBClassifier(base_score=None, booster=None, callbacks=None,\n",
       "              colsample_bylevel=None, colsample_bynode=None,\n",
       "              colsample_bytree=None, device=None, early_stopping_rounds=None,\n",
       "              enable_categorical=False, eval_metric=None, feature_types=None,\n",
       "              gamma=None, grow_policy=None, importance_type=None,\n",
       "              interaction_constraints=None, learning_rate=0.1, max_bin=None,\n",
       "              max_cat_threshold=None, max_cat_to_onehot=None,\n",
       "              max_delta_step=None, max_depth=5, max_leaves=None,\n",
       "              min_child_weight=None, missing=nan, monotone_constraints=None,\n",
       "              multi_strategy=None, n_estimators=100, n_jobs=None,\n",
       "              num_parallel_tree=None, random_state=42, ...)</pre></div></div></div></div></div>"
      ],
      "text/plain": [
       "XGBClassifier(base_score=None, booster=None, callbacks=None,\n",
       "              colsample_bylevel=None, colsample_bynode=None,\n",
       "              colsample_bytree=None, device=None, early_stopping_rounds=None,\n",
       "              enable_categorical=False, eval_metric=None, feature_types=None,\n",
       "              gamma=None, grow_policy=None, importance_type=None,\n",
       "              interaction_constraints=None, learning_rate=0.1, max_bin=None,\n",
       "              max_cat_threshold=None, max_cat_to_onehot=None,\n",
       "              max_delta_step=None, max_depth=5, max_leaves=None,\n",
       "              min_child_weight=None, missing=nan, monotone_constraints=None,\n",
       "              multi_strategy=None, n_estimators=100, n_jobs=None,\n",
       "              num_parallel_tree=None, random_state=42, ...)"
      ]
     },
     "execution_count": 4,
     "metadata": {},
     "output_type": "execute_result"
    }
   ],
   "source": [
    "# Initialize and train model\n",
    "model = xgb.XGBClassifier(\n",
    "    n_estimators=100,  # Number of boosting rounds\n",
    "    max_depth=5,      # Maximum tree depth\n",
    "    learning_rate=0.1, # Step size shrinkage\n",
    "    objective='binary:logistic',  # Binary classification\n",
    "    random_state=42\n",
    ")\n",
    "\n",
    "# Train the model\n",
    "model.fit(X_train, y_train,\n",
    "          eval_set=[(X_val, y_val)],\n",
    "          verbose=True)"
   ]
  },
  {
   "cell_type": "markdown",
   "id": "1893488e",
   "metadata": {
    "papermill": {
     "duration": 0.007924,
     "end_time": "2025-07-24T15:45:39.158506",
     "exception": false,
     "start_time": "2025-07-24T15:45:39.150582",
     "status": "completed"
    },
    "tags": []
   },
   "source": [
    "## 3. Evaluate Model\n",
    "\n",
    "Let's evaluate our model using:\n",
    "- Accuracy: Overall prediction accuracy\n",
    "- Confusion Matrix: This is common for classifications. How often did we classify or misclassify each category? It's common that some categories are harder than others. "
   ]
  },
  {
   "cell_type": "code",
   "execution_count": 5,
   "id": "47038762",
   "metadata": {
    "execution": {
     "iopub.execute_input": "2025-07-24T15:45:39.176682Z",
     "iopub.status.busy": "2025-07-24T15:45:39.176387Z",
     "iopub.status.idle": "2025-07-24T15:45:39.469979Z",
     "shell.execute_reply": "2025-07-24T15:45:39.468946Z"
    },
    "papermill": {
     "duration": 0.305224,
     "end_time": "2025-07-24T15:45:39.471779",
     "exception": false,
     "start_time": "2025-07-24T15:45:39.166555",
     "status": "completed"
    },
    "tags": []
   },
   "outputs": [
    {
     "name": "stdout",
     "output_type": "stream",
     "text": [
      "Test Accuracy: 0.8845\n"
     ]
    },
    {
     "data": {
      "image/png": "[encoded data removed]",
      "text/plain": [
       "<Figure size 800x600 with 2 Axes>"
      ]
     },
     "metadata": {},
     "output_type": "display_data"
    }
   ],
   "source": [
    "# Make predictions\n",
    "\n",
    "# this gives us probabilities for both categories - we only want for ttbar, so we select one column\n",
    "# with a binary classification, the probability for one category implies the other \n",
    "y_pred = model.predict_proba(X_val)[:, 1]\n",
    "\n",
    "# to test accuracy and confusion matrix, we need labels 0 and 1, so we set that based on a threshold\n",
    "discrete_pred = np.where(y_pred > 0.5, 1, 0)\n",
    "# Calculate accuracy\n",
    "accuracy = accuracy_score(y_val, np.where(y_pred > 0.5, 1, 0))\n",
    "print(f\"Test Accuracy: {accuracy:.4f}\")\n",
    "\n",
    "# Plot confusion matrix\n",
    "plot_confusion_matrix(y_val, discrete_pred)"
   ]
  },
  {
   "cell_type": "code",
   "execution_count": 6,
   "id": "b84f2f36",
   "metadata": {
    "execution": {
     "iopub.execute_input": "2025-07-24T15:45:39.490683Z",
     "iopub.status.busy": "2025-07-24T15:45:39.490357Z",
     "iopub.status.idle": "2025-07-24T15:45:39.668822Z",
     "shell.execute_reply": "2025-07-24T15:45:39.667792Z"
    },
    "papermill": {
     "duration": 0.19004,
     "end_time": "2025-07-24T15:45:39.670609",
     "exception": false,
     "start_time": "2025-07-24T15:45:39.480569",
     "status": "completed"
    },
    "tags": []
   },
   "outputs": [
    {
     "data": {
      "image/png": "[encoded data removed]",
      "text/plain": [
       "<Figure size 640x480 with 1 Axes>"
      ]
     },
     "metadata": {},
     "output_type": "display_data"
    }
   ],
   "source": [
    "plot_roc_curve(y_val, y_pred)"
   ]
  },
  {
   "cell_type": "markdown",
   "id": "11dd7838",
   "metadata": {
    "papermill": {
     "duration": 0.008638,
     "end_time": "2025-07-24T15:45:39.688560",
     "exception": false,
     "start_time": "2025-07-24T15:45:39.679922",
     "status": "completed"
    },
    "tags": []
   },
   "source": [
    "## 4. Feature Importance Analysis\n",
    "\n",
    "One of the advantages of BDTs is that they provide feature importance scores, which help us understand which features are most important for the classification task. Beware that this doesn't translate directly to which are the best features in the data - only to what the model thinks. So if you have a bad model, your feature importance will be equally useless. Another model could also pick up on features that the BDT didn't, so it's only an indicator. "
   ]
  },
  {
   "cell_type": "code",
   "execution_count": 7,
   "id": "187a904b",
   "metadata": {
    "execution": {
     "iopub.execute_input": "2025-07-24T15:45:39.708995Z",
     "iopub.status.busy": "2025-07-24T15:45:39.707785Z",
     "iopub.status.idle": "2025-07-24T15:45:40.032987Z",
     "shell.execute_reply": "2025-07-24T15:45:40.031946Z"
    },
    "papermill": {
     "duration": 0.337236,
     "end_time": "2025-07-24T15:45:40.034658",
     "exception": false,
     "start_time": "2025-07-24T15:45:39.697422",
     "status": "completed"
    },
    "tags": []
   },
   "outputs": [
    {
     "data": {
      "image/png": "[encoded data removed]",
      "text/plain": [
       "<Figure size 1000x600 with 1 Axes>"
      ]
     },
     "metadata": {},
     "output_type": "display_data"
    }
   ],
   "source": [
    "# Plot feature importance\n",
    "importance = model.feature_importances_\n",
    "feature_importance = pd.DataFrame({\n",
    "    'feature': X_train.columns,\n",
    "    'importance': importance\n",
    "}).sort_values('importance', ascending=False)\n",
    "\n",
    "plt.figure(figsize=(10, 6))\n",
    "sns.barplot(x='importance', y='feature', data=feature_importance)\n",
    "plt.title('Feature Importance')\n",
    "plt.tight_layout() \n",
    "plt.show()"
   ]
  },
  {
   "cell_type": "markdown",
   "id": "1fdde8fc",
   "metadata": {
    "papermill": {
     "duration": 0.009994,
     "end_time": "2025-07-24T15:45:40.055103",
     "exception": false,
     "start_time": "2025-07-24T15:45:40.045109",
     "status": "completed"
    },
    "tags": []
   },
   "source": [
    "# 5 - Make kaggle predictions¶\n"
   ]
  },
  {
   "cell_type": "code",
   "execution_count": 8,
   "id": "366b98bf",
   "metadata": {
    "execution": {
     "iopub.execute_input": "2025-07-24T15:45:40.075839Z",
     "iopub.status.busy": "2025-07-24T15:45:40.075500Z",
     "iopub.status.idle": "2025-07-24T15:45:40.092756Z",
     "shell.execute_reply": "2025-07-24T15:45:40.091792Z"
    },
    "papermill": {
     "duration": 0.029684,
     "end_time": "2025-07-24T15:45:40.094471",
     "exception": false,
     "start_time": "2025-07-24T15:45:40.064787",
     "status": "completed"
    },
    "tags": []
   },
   "outputs": [],
   "source": [
    "test_predictions = model.predict_proba(X_test)[:, 1]\n",
    "solution = pd.DataFrame({'id':test_ids, 'label':test_predictions})\n",
    "solution.to_csv('submission.csv', index=False)"
   ]
  },
  {
   "cell_type": "code",
   "execution_count": null,
   "id": "6780a325",
   "metadata": {
    "papermill": {
     "duration": 0.0095,
     "end_time": "2025-07-24T15:45:40.114094",
     "exception": false,
     "start_time": "2025-07-24T15:45:40.104594",
     "status": "completed"
    },
    "tags": []
   },
   "outputs": [],
   "source": []
  }
 ],
 "metadata": {
  "kaggle": {
   "accelerator": "none",
   "dataSources": [
    {
     "databundleVersionId": 13104605,
     "sourceId": 108149,
     "sourceType": "competition"
    },
    {
     "sourceId": 251458427,
     "sourceType": "kernelVersion"
    },
    {
     "sourceId": 251458845,
     "sourceType": "kernelVersion"
    }
   ],
   "dockerImageVersionId": 31089,
   "isGpuEnabled": false,
   "isInternetEnabled": false,
   "language": "python",
   "sourceType": "notebook"
  },
  "kernelspec": {
   "display_name": "Python 3",
   "language": "python",
   "name": "python3"
  },
  "language_info": {
   "codemirror_mode": {
    "name": "ipython",
    "version": 3
   },
   "file_extension": ".py",
   "mimetype": "text/x-python",
   "name": "python",
   "nbconvert_exporter": "python",
   "pygments_lexer": "ipython3",
   "version": "3.11.13"
  },
  "papermill": {
   "default_parameters": {},
   "duration": 19.118225,
   "end_time": "2025-07-24T15:45:41.948808",
   "environment_variables": {},
   "exception": null,
   "input_path": "__notebook__.ipynb",
   "output_path": "__notebook__.ipynb",
   "parameters": {},
   "start_time": "2025-07-24T15:45:22.830583",
   "version": "2.6.0"
  }
 },
 "nbformat": 4,
 "nbformat_minor": 5
}
